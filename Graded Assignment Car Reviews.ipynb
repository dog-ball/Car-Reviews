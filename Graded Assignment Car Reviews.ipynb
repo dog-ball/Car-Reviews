{
 "cells": [
  {
   "cell_type": "markdown",
   "metadata": {},
   "source": [
    "# Graded Assignment: Car Reviews"
   ]
  },
  {
   "cell_type": "code",
   "execution_count": 1,
   "metadata": {},
   "outputs": [],
   "source": [
    "import pandas as pd\n",
    "import numpy as np\n",
    "from sklearn.model_selection import train_test_split\n",
    "from sklearn.feature_extraction.text import CountVectorizer\n",
    "from sklearn.feature_extraction.text import TfidfTransformer\n",
    "from sklearn.naive_bayes import MultinomialNB\n",
    "from sklearn.svm import LinearSVC\n",
    "from sklearn import metrics\n",
    "from sklearn.pipeline import Pipeline\n",
    "import nltk.stem\n",
    "import matplotlib.pyplot as plt\n",
    "import seaborn as sns\n",
    "import random"
   ]
  },
  {
   "cell_type": "code",
   "execution_count": 2,
   "metadata": {},
   "outputs": [],
   "source": [
    "df = pd.read_csv('car-reviews.csv')\n",
    "X, y = df['Review'], df['Sentiment']\n",
    "X_train, X_test, y_train, y_test = train_test_split(X, y, test_size=0.2, random_state=42)"
   ]
  },
  {
   "cell_type": "markdown",
   "metadata": {},
   "source": [
    "### Part 1.1\n",
    ">Does the submission demonstrate that words and punctuation, which are unlikely to\n",
    "affect sentiment, have been excluded from the sentiment classifier AND that the\n",
    "remaining words are not being handled in a case sensitive way?\n",
    "\n",
    "`CountVectorizer` has a number of parameters that can be adjusted to change how text is converted into an array of numbers. While converting characters to lowercase and removing punctuation is active by default, I have stated them explicitly here:\n",
    "\n",
    "- `token_pattern = r\"(?u)\\b\\w\\w+\\b\"` ignores all punctuation.\n",
    "- `stop_words = 'english'` scikit learn stopwords dictionary removes words that are unlikely to affect sentiment.\n",
    "- `lowercase = True` converts all characters to lowercase.\n"
   ]
  },
  {
   "cell_type": "code",
   "execution_count": 3,
   "metadata": {},
   "outputs": [],
   "source": [
    "example_vect = CountVectorizer(lowercase = True, stop_words = \"english\", token_pattern = r\"(?u)\\b\\w\\w+\\b\")"
   ]
  },
  {
   "cell_type": "markdown",
   "metadata": {},
   "source": [
    "In order to demonstrate these preprocessing steps, I have performed them on a randomly selected review so you can compare the input and output:"
   ]
  },
  {
   "cell_type": "code",
   "execution_count": 4,
   "metadata": {},
   "outputs": [
    {
     "name": "stdout",
     "output_type": "stream",
     "text": [
      "Before Preprocessing:\n",
      "\n",
      " Lets put it this way my grand mother drives this car  It is rahter big and some what comfortable in the interior  But it has horrible gas mileage and is quite ugly  If your are under 60 years of age and want to hold up any kind of an image this car might not be a good idea  It handles turns pretty well but the acceleration isnt that great and it is a real pain to park because it is so wide and long  However it is dependable  so if that is what you are looking for this is a good car \n",
      "\n",
      "After Preprocessing:\n",
      "\n",
      "60 acceleration age big car comfortable dependable drives gas good grand great handles hold horrible idea image interior isnt kind lets long looking mileage mother pain park pretty quite rahter real turns ugly want way wide years\n"
     ]
    }
   ],
   "source": [
    "example_matrix = example_vect.fit_transform(X_train[1036:1037])\n",
    "example_array = example_matrix.toarray()\n",
    "processed_text = ' '.join(example_vect.get_feature_names())\n",
    "original_text = X_train[729]\n",
    "print('Before Preprocessing:\\n')\n",
    "print(original_text)\n",
    "print('')\n",
    "print('After Preprocessing:\\n')\n",
    "print(processed_text)"
   ]
  },
  {
   "cell_type": "markdown",
   "metadata": {},
   "source": [
    "I have then applied the process to rest of the `X_train` data and converted it into a pandas DataFrame for presentation:"
   ]
  },
  {
   "cell_type": "code",
   "execution_count": 5,
   "metadata": {},
   "outputs": [
    {
     "data": {
      "text/html": [
       "<div>\n",
       "<style scoped>\n",
       "    .dataframe tbody tr th:only-of-type {\n",
       "        vertical-align: middle;\n",
       "    }\n",
       "\n",
       "    .dataframe tbody tr th {\n",
       "        vertical-align: top;\n",
       "    }\n",
       "\n",
       "    .dataframe thead th {\n",
       "        text-align: right;\n",
       "    }\n",
       "</style>\n",
       "<table border=\"1\" class=\"dataframe\">\n",
       "  <thead>\n",
       "    <tr style=\"text-align: right;\">\n",
       "      <th></th>\n",
       "      <th>00</th>\n",
       "      <th>000</th>\n",
       "      <th>000k</th>\n",
       "      <th>000kms</th>\n",
       "      <th>00a</th>\n",
       "      <th>00p</th>\n",
       "      <th>01</th>\n",
       "      <th>0110</th>\n",
       "      <th>02</th>\n",
       "      <th>03</th>\n",
       "      <th>...</th>\n",
       "      <th>zr</th>\n",
       "      <th>ztec</th>\n",
       "      <th>ztech</th>\n",
       "      <th>zts</th>\n",
       "      <th>ztw</th>\n",
       "      <th>zx</th>\n",
       "      <th>zx2</th>\n",
       "      <th>zx2s</th>\n",
       "      <th>zx3</th>\n",
       "      <th>zx5</th>\n",
       "    </tr>\n",
       "  </thead>\n",
       "  <tbody>\n",
       "    <tr>\n",
       "      <th>0</th>\n",
       "      <td>0</td>\n",
       "      <td>0</td>\n",
       "      <td>0</td>\n",
       "      <td>0</td>\n",
       "      <td>0</td>\n",
       "      <td>0</td>\n",
       "      <td>0</td>\n",
       "      <td>0</td>\n",
       "      <td>0</td>\n",
       "      <td>0</td>\n",
       "      <td>...</td>\n",
       "      <td>0</td>\n",
       "      <td>0</td>\n",
       "      <td>0</td>\n",
       "      <td>0</td>\n",
       "      <td>0</td>\n",
       "      <td>0</td>\n",
       "      <td>0</td>\n",
       "      <td>0</td>\n",
       "      <td>0</td>\n",
       "      <td>0</td>\n",
       "    </tr>\n",
       "    <tr>\n",
       "      <th>1</th>\n",
       "      <td>0</td>\n",
       "      <td>14</td>\n",
       "      <td>0</td>\n",
       "      <td>0</td>\n",
       "      <td>0</td>\n",
       "      <td>0</td>\n",
       "      <td>0</td>\n",
       "      <td>0</td>\n",
       "      <td>0</td>\n",
       "      <td>0</td>\n",
       "      <td>...</td>\n",
       "      <td>0</td>\n",
       "      <td>0</td>\n",
       "      <td>0</td>\n",
       "      <td>0</td>\n",
       "      <td>0</td>\n",
       "      <td>0</td>\n",
       "      <td>0</td>\n",
       "      <td>0</td>\n",
       "      <td>0</td>\n",
       "      <td>0</td>\n",
       "    </tr>\n",
       "    <tr>\n",
       "      <th>2</th>\n",
       "      <td>0</td>\n",
       "      <td>6</td>\n",
       "      <td>0</td>\n",
       "      <td>0</td>\n",
       "      <td>0</td>\n",
       "      <td>0</td>\n",
       "      <td>0</td>\n",
       "      <td>0</td>\n",
       "      <td>0</td>\n",
       "      <td>0</td>\n",
       "      <td>...</td>\n",
       "      <td>0</td>\n",
       "      <td>0</td>\n",
       "      <td>0</td>\n",
       "      <td>0</td>\n",
       "      <td>0</td>\n",
       "      <td>0</td>\n",
       "      <td>0</td>\n",
       "      <td>0</td>\n",
       "      <td>0</td>\n",
       "      <td>0</td>\n",
       "    </tr>\n",
       "    <tr>\n",
       "      <th>3</th>\n",
       "      <td>0</td>\n",
       "      <td>0</td>\n",
       "      <td>0</td>\n",
       "      <td>0</td>\n",
       "      <td>0</td>\n",
       "      <td>0</td>\n",
       "      <td>0</td>\n",
       "      <td>0</td>\n",
       "      <td>0</td>\n",
       "      <td>0</td>\n",
       "      <td>...</td>\n",
       "      <td>0</td>\n",
       "      <td>0</td>\n",
       "      <td>0</td>\n",
       "      <td>0</td>\n",
       "      <td>0</td>\n",
       "      <td>0</td>\n",
       "      <td>0</td>\n",
       "      <td>0</td>\n",
       "      <td>0</td>\n",
       "      <td>0</td>\n",
       "    </tr>\n",
       "    <tr>\n",
       "      <th>4</th>\n",
       "      <td>0</td>\n",
       "      <td>0</td>\n",
       "      <td>0</td>\n",
       "      <td>0</td>\n",
       "      <td>0</td>\n",
       "      <td>0</td>\n",
       "      <td>0</td>\n",
       "      <td>0</td>\n",
       "      <td>0</td>\n",
       "      <td>0</td>\n",
       "      <td>...</td>\n",
       "      <td>0</td>\n",
       "      <td>0</td>\n",
       "      <td>0</td>\n",
       "      <td>0</td>\n",
       "      <td>0</td>\n",
       "      <td>0</td>\n",
       "      <td>0</td>\n",
       "      <td>0</td>\n",
       "      <td>0</td>\n",
       "      <td>0</td>\n",
       "    </tr>\n",
       "  </tbody>\n",
       "</table>\n",
       "<p>5 rows × 15089 columns</p>\n",
       "</div>"
      ],
      "text/plain": [
       "   00  000  000k  000kms  00a  00p  01  0110  02  03  ...  zr  ztec  ztech  \\\n",
       "0   0    0     0       0    0    0   0     0   0   0  ...   0     0      0   \n",
       "1   0   14     0       0    0    0   0     0   0   0  ...   0     0      0   \n",
       "2   0    6     0       0    0    0   0     0   0   0  ...   0     0      0   \n",
       "3   0    0     0       0    0    0   0     0   0   0  ...   0     0      0   \n",
       "4   0    0     0       0    0    0   0     0   0   0  ...   0     0      0   \n",
       "\n",
       "   zts  ztw  zx  zx2  zx2s  zx3  zx5  \n",
       "0    0    0   0    0     0    0    0  \n",
       "1    0    0   0    0     0    0    0  \n",
       "2    0    0   0    0     0    0    0  \n",
       "3    0    0   0    0     0    0    0  \n",
       "4    0    0   0    0     0    0    0  \n",
       "\n",
       "[5 rows x 15089 columns]"
      ]
     },
     "execution_count": 5,
     "metadata": {},
     "output_type": "execute_result"
    }
   ],
   "source": [
    "count_vect = CountVectorizer(lowercase = True, stop_words = \"english\", token_pattern = r\"(?u)\\b\\w\\w+\\b\")\n",
    "count_matrix = count_vect.fit_transform(X_train)\n",
    "count_array = count_matrix.toarray()\n",
    "count_df = pd.DataFrame(data=count_array,columns = count_vect.get_feature_names())\n",
    "count_df.head()"
   ]
  },
  {
   "cell_type": "markdown",
   "metadata": {},
   "source": [
    "### Part 1.2\n",
    ">Does the submission demonstrate that words with the same stem have been\n",
    "appropriately recognised and treated as variations of the stem? This should be\n",
    "demonstrated for at least 3 different stems."
   ]
  },
  {
   "cell_type": "markdown",
   "metadata": {},
   "source": [
    "Below, I have demonstrated that words with the same stem have been appropriately recognised and treated as variations of the stem for 3 frequently occurring words:"
   ]
  },
  {
   "cell_type": "code",
   "execution_count": 6,
   "metadata": {},
   "outputs": [
    {
     "name": "stdout",
     "output_type": "stream",
     "text": [
      "Word: steer\n",
      "Unstemmed: ['steer', 'steering', 'steers']\n",
      "Stemmed: ['steer', 'steer', 'steer']\n",
      "\n",
      "Word: comfortable\n",
      "Unstemmed: ['comfortable', 'comforting', 'comfort']\n",
      "Stemmed: ['comfort', 'comfort', 'comfort']\n",
      "\n",
      "Word: automatic\n",
      "Unstemmed: ['automatic', 'automatically', 'automate']\n",
      "Stemmed: ['automat', 'automat', 'autom']\n",
      "\n"
     ]
    }
   ],
   "source": [
    "stemmer = nltk.stem.SnowballStemmer('english')\n",
    "\n",
    "# Frequent Words\n",
    "steering_words = ['steer', 'steering', 'steers']\n",
    "comfort_words = ['comfortable', 'comforting', 'comfort']\n",
    "automatic_words = ['automatic', 'automatically', 'automate'] \n",
    "\n",
    "# Stemmed versions\n",
    "stemmed_steering = [stemmer.stem(word) for word in steering_words]\n",
    "stemmed_comfort = [stemmer.stem(word) for word in comfort_words]\n",
    "stemmed_automatic = [stemmer.stem(word) for word in automatic_words]\n",
    "\n",
    "\n",
    "print(f'Word: {steering_words[0]}\\nUnstemmed: {steering_words}\\nStemmed: {stemmed_steering}\\n')\n",
    "print(f'Word: {comfort_words[0]}\\nUnstemmed: {comfort_words}\\nStemmed: {stemmed_comfort}\\n')\n",
    "print(f'Word: {automatic_words[0]}\\nUnstemmed: {automatic_words}\\nStemmed: {stemmed_automatic}\\n')"
   ]
  },
  {
   "cell_type": "code",
   "execution_count": 7,
   "metadata": {},
   "outputs": [],
   "source": [
    "# Add stemming ability to CounterVectorizer\n",
    "class StemmedCountVectorizer(CountVectorizer):\n",
    "    def build_analyzer(self):\n",
    "        analyzer = super(StemmedCountVectorizer, self).build_analyzer()\n",
    "        return lambda doc: ([stemmer.stem(w) for w in analyzer(doc)])\n",
    "\n",
    "# Apply new StemmedCountVectorizer to training data\n",
    "stemmed_count_vect = StemmedCountVectorizer(lowercase = True, stop_words = \"english\", token_pattern = r\"(?u)\\b\\w\\w+\\b\")\n",
    "stemmed_count_matrix = stemmed_count_vect.fit_transform(X_train)"
   ]
  },
  {
   "cell_type": "markdown",
   "metadata": {},
   "source": [
    "### Part 1.3\n",
    ">Does the code produce some output to demonstrate that a vector has been created\n",
    "for each review, where each element in the vector represents EITHER a binary\n",
    "variable indicating the presence of a word/stem in a review OR the number of times\n",
    "that a word (or word stem) appears? Note that the output does not need to show\n",
    "the vector for all reviews, this only needs to contain a small sample of reviews."
   ]
  },
  {
   "cell_type": "markdown",
   "metadata": {},
   "source": [
    "Alongside a modified version of scikit-learn's `CountVectorizer`, I have also used their `TfidfTransformer`, which applies tf–idf: an acronym which stands for term frequency–inverse document frequency. This technique provides an alternative approach to the binary variables found in basic bag of words. Instead, the value for each word is weighted based on its frequency throughout the total corpus of text in the training data. Similarly to stop words, this is used to capture semantic meaning by placing more significance to less frequently occurring words."
   ]
  },
  {
   "cell_type": "code",
   "execution_count": 8,
   "metadata": {},
   "outputs": [
    {
     "name": "stdout",
     "output_type": "stream",
     "text": [
      "Demonstration that a vector has been created for each review:\n",
      "\n",
      "Review 0: [0. 0. 0. ... 0. 0. 0.]\n",
      "Review 1: [0.        0.3835539 0.        ... 0.        0.        0.       ]\n",
      "Review 2: [0.         0.02876242 0.         ... 0.         0.         0.        ]\n",
      "Review 3: [0. 0. 0. ... 0. 0. 0.]\n",
      "Review 4: [0. 0. 0. ... 0. 0. 0.]\n",
      "...\n"
     ]
    }
   ],
   "source": [
    "# Perform Tfidf Transform\n",
    "tfidf_transformer = TfidfTransformer()\n",
    "X_train_tfidf = tfidf_transformer.fit_transform(stemmed_count_matrix)\n",
    "X_train_tfidf_array = X_train_tfidf.toarray()\n",
    "\n",
    "# Demonstrate that a vector has been created for each review\n",
    "print('Demonstration that a vector has been created for each review:\\n')\n",
    "for i in range(5):\n",
    "    print(f'Review {i}: {X_train_tfidf_array[i]}')\n",
    "print('...')"
   ]
  },
  {
   "cell_type": "markdown",
   "metadata": {},
   "source": [
    "### Part 1.4\n",
    ">Does the code clearly show that an appropriate Naïve Bayes model has been used\n",
    "for classification, either through the use of an existing library or coded from scratch."
   ]
  },
  {
   "cell_type": "markdown",
   "metadata": {},
   "source": [
    "The multinomial version of scikit-learn's Naive Bayes Models, `MultinomialNB` is appropriate for when your features describe discrete frequency counts such as word counts."
   ]
  },
  {
   "cell_type": "code",
   "execution_count": 9,
   "metadata": {},
   "outputs": [],
   "source": [
    "# Naïve Bayes classifier for multinomial models\n",
    "clf = MultinomialNB().fit(X_train_tfidf, y_train)"
   ]
  },
  {
   "cell_type": "markdown",
   "metadata": {},
   "source": [
    "### Part 1.5\n",
    ">Does the code clearly show that 80% of the data has been used to train the\n",
    "classification model, and that the remaining 20% of the data set has been used as\n",
    "test data? AND does it show that only the training data has been used up to the\n",
    "point where the model has been trained (no test data)? AND is the code able to\n",
    "cope with words that appear in the test data but not in the training dataset?"
   ]
  },
  {
   "cell_type": "markdown",
   "metadata": {},
   "source": [
    "Here, I have demonstrated how scikit-learn's `train_test_split(X, y, test_size=0.2, random_state=42)` splits the data when asked for 80% for training and 20% for testing. It is 0.05 off exactly 80%!"
   ]
  },
  {
   "cell_type": "code",
   "execution_count": 10,
   "metadata": {},
   "outputs": [
    {
     "name": "stdout",
     "output_type": "stream",
     "text": [
      "Shape of original dataset: (1382, 2)\n",
      "Shape of X_train: (1105,)\n",
      "Shape of y_train: (1105,)\n",
      "Shape of X_test: (277,)\n",
      "Shape of y_test: (277,)\n",
      "\n",
      "1105 as a % of 1382: 79.95658465991316%\n"
     ]
    }
   ],
   "source": [
    "print(\"Shape of original dataset:\", df.shape)\n",
    "print(\"Shape of X_train:\", X_train.shape)\n",
    "print(\"Shape of y_train:\", y_train.shape)\n",
    "print(\"Shape of X_test:\", X_test.shape)\n",
    "print(\"Shape of y_test:\", y_test.shape)\n",
    "print(f\"\\n{X_train.shape[0]} as a % of {df.shape[0]}: {(X_train.shape[0]/df.shape[0])*100}%\")"
   ]
  },
  {
   "cell_type": "markdown",
   "metadata": {},
   "source": [
    "Scikit-learn's `Pipeline` provides a useful architecture for building machine learning pipelines. Below, I have added my stemmed version of scikit-learn's `CountVectorizer` along with their `TfidfTransformer` into a pipeline with the `MultinomialNB` Naïve Bayes model. This provides the preprocessing required on the test data which allows for the model to cope with words that appear in the test data but not in the training dataset while only being trained on the training data."
   ]
  },
  {
   "cell_type": "code",
   "execution_count": 11,
   "metadata": {},
   "outputs": [
    {
     "data": {
      "text/plain": [
       "Pipeline(steps=[('vect', StemmedCountVectorizer(stop_words='english')),\n",
       "                ('tfidf', TfidfTransformer()), ('clf', MultinomialNB())])"
      ]
     },
     "execution_count": 11,
     "metadata": {},
     "output_type": "execute_result"
    }
   ],
   "source": [
    "text_clf = Pipeline([\n",
    "     ('vect', StemmedCountVectorizer(lowercase = True, stop_words = \"english\", token_pattern = r\"(?u)\\b\\w\\w+\\b\")),\n",
    "     ('tfidf', TfidfTransformer()),\n",
    "     ('clf', MultinomialNB()), ])\n",
    "\n",
    "text_clf.fit(X_train, y_train)"
   ]
  },
  {
   "cell_type": "markdown",
   "metadata": {},
   "source": [
    "Below, I find words that appear in the test data and not in the train data and present a sample:"
   ]
  },
  {
   "cell_type": "code",
   "execution_count": 12,
   "metadata": {},
   "outputs": [
    {
     "name": "stdout",
     "output_type": "stream",
     "text": [
      "Here is an sample of words found in the test data but not the train data: \n",
      "\n",
      "['roared', 'belfast', 'closeout', '91mph', 'surged']\n"
     ]
    }
   ],
   "source": [
    "# List of words in the test data:\n",
    "test_vect = CountVectorizer(lowercase = True, stop_words = \"english\", token_pattern = r\"(?u)\\b\\w\\w+\\b\")\n",
    "test_matrix = test_vect.fit_transform(X_test)\n",
    "test_words = test_vect.get_feature_names()\n",
    "\n",
    "# List of words in the training data data:\n",
    "train_words = count_vect.get_feature_names()\n",
    "\n",
    "# Find words which appear in test and not train:\n",
    "just_test = []\n",
    "for word in test_words:\n",
    "    if word not in train_words:\n",
    "        just_test.append(word)\n",
    "    \n",
    "# Make a prediction based on 200 unseen words:\n",
    "random_unseen_words = []\n",
    "for i in range(200):\n",
    "    random_unseen_words.append(random.choice(just_test))\n",
    "review = [' '.join(random_unseen_words)]\n",
    "print(f\"Here is an sample of words found in the test data but not the train data: \\n\\n{random_unseen_words[:5]}\")"
   ]
  },
  {
   "cell_type": "markdown",
   "metadata": {},
   "source": [
    "Next, I have proven that the model can cope with unseen words by selecting a random review from the `X_test` data (in which every review has at least one word that is not found in the `X_train` data) and predicted its sentiment. \n",
    "\n",
    "(Since, the following cell randomly select a review from the test data, without cherry picking, approximately 1/5 times the Naïve Bayes model will misclassify):"
   ]
  },
  {
   "cell_type": "code",
   "execution_count": 13,
   "metadata": {},
   "outputs": [
    {
     "name": "stdout",
     "output_type": "stream",
     "text": [
      "This prediction was correct.\n",
      "\n",
      "The following Pos review was predicted to have a Pos sentiment:\n",
      "\n",
      "---\n",
      " If you had told me when I was 21 that I would be driving a station wagon within 5 years I would probably have laughed myself into a stuper  Well I was 23 when I decided that my kids and I had outgrown my little Calais and we needed something with more room  so I started looking for the perfect vehicle and I found it very quickly  My sister and I had been out and about when we first saw the  89 FOrd Taurus Wagon sitting there on the lot saying   buy me  buy ME   but I passed it off as   probably too expensive   Well with out my knowing about it my sister went to the lot and asked about the car for me  It was a 1989 Ford Taurus Wagon with 100 some odd thousand miles on it  air conditioner  AM FM radio tape  electric seats  locks and windows  rear defrost  and a few more nice little odds and ends  and the price was ONLY  2500  Well I called my loan man and he said offer  2100  they took it and I was the proud owner of a very roomy  and trustworthy vehicle  I had that vehicle for over a year when I decided to buy a new  used  vehicle  but the only reason I decided to get a new one was because my family was growing  I now had myself  my 3 kids  my fiance  and his daughter    amp  now one on the way  so we talked it over and decided to get a Mini Van  I still miss my wagon but I realize that for a family of 5 it is perfect but when you have a family of 7 that you need a bigger vehicle  If you are a family of 5 or more and looking for a nice  roomy vehicle the Ford Taurus is the perfect family vehicle but if there are more than of you it starts getting crowded \n",
      "---\n",
      "\n",
      "Run this cell again to make another prediction.\n"
     ]
    }
   ],
   "source": [
    "# Prove that the model can predict on words it hasn't seen before\n",
    "random_index = random.randint(0, 276)\n",
    "example_review = X_test.iloc[random_index]\n",
    "real_sentiment = y_test.iloc[random_index]\n",
    "predicted_sentiment = text_clf.predict([example_review])\n",
    "\n",
    "# Check if the model was correctly\n",
    "if real_sentiment == predicted_sentiment:\n",
    "    result_flag = 'correct'\n",
    "else:\n",
    "    result_flag = 'incorrect'\n",
    " \n",
    "print(f'This prediction was {result_flag}.\\n')\n",
    "print(f'The following {real_sentiment} review was predicted to have a {predicted_sentiment[0]} sentiment:\\n')\n",
    "print('---')\n",
    "print(example_review)\n",
    "print(f'---')\n",
    "print(f'\\nRun this cell again to make another prediction.')"
   ]
  },
  {
   "cell_type": "code",
   "execution_count": 14,
   "metadata": {},
   "outputs": [
    {
     "name": "stdout",
     "output_type": "stream",
     "text": [
      "We achieved 80.51% accuracy!\n",
      "\n",
      "              precision    recall  f1-score   support\n",
      "\n",
      "         Neg       0.85      0.75      0.80       142\n",
      "         Pos       0.77      0.86      0.81       135\n",
      "\n",
      "    accuracy                           0.81       277\n",
      "   macro avg       0.81      0.81      0.80       277\n",
      "weighted avg       0.81      0.81      0.80       277\n",
      "\n"
     ]
    }
   ],
   "source": [
    "# Accuracy across the whole test data\n",
    "predicted = text_clf.predict(X_test)\n",
    "accuracy = np.mean(predicted == y_test)\n",
    "print(f'We achieved {round(accuracy*100, 2)}% accuracy!\\n')\n",
    "print(metrics.classification_report(y_test, predicted))"
   ]
  },
  {
   "cell_type": "markdown",
   "metadata": {},
   "source": [
    "### Part 1.6\n",
    ">Does the code output a confusion matrix demonstrating the performance of the\n",
    "Naïve Bayes classifier? The confusion matrix must clearly indicate the proportion of\n",
    "True Negatives, False Positives, False Negatives and True Positives."
   ]
  },
  {
   "cell_type": "markdown",
   "metadata": {},
   "source": [
    "The following code produces a clearly visualised confusion matrix with True Negatives in the top left, False Positives in the top right, False Negatives in the bottom left and True Positives in the bottom right:"
   ]
  },
  {
   "cell_type": "code",
   "execution_count": 15,
   "metadata": {},
   "outputs": [
    {
     "data": {
      "image/png": "[encoded data removed]",
      "text/plain": [
       "<Figure size 432x288 with 2 Axes>"
      ]
     },
     "metadata": {
      "needs_background": "light"
     },
     "output_type": "display_data"
    }
   ],
   "source": [
    "metrics.plot_confusion_matrix(text_clf, X_test, y_test);"
   ]
  },
  {
   "cell_type": "markdown",
   "metadata": {},
   "source": [
    "### Part 2.1\n",
    ">Does the Jupyter notebook include a markdown/comment section that\n",
    "clearly explains how the approach taken in part two is expected to\n",
    "improve on the solution to part one. Are the reasons for the expected\n",
    "improvements clearly justified and explained with one or more references\n",
    "(e.g. to a published source scientific paper, article, book)?"
   ]
  },
  {
   "cell_type": "markdown",
   "metadata": {},
   "source": [
    "### Explanation of Approach\n",
    "\n",
    "I have chosen to try to improve on the solution to part one by using a linear Support Vector Machine (SVM) to make predictions instead of using the Naive Bayes model from part one. The primary reason for this decision comes from the fact that the Naive Bayes algorithm is unable to capture the correlation between different words which I think could be a very useful indicator for sentiment. I have therefore chosen to use a model which has this capacity  [1].\n",
    "\n",
    "Although slightly slower than the Naive Bayes model, the linear SVM is widely regarded as one of the best text classification algorithms. Looking through the scikit-learn documentation, I saw how they were able to go from 83.5% accuracy on a similar text classification problem to 91.3% accuracy by switching from a Naïve Bayes model to a linear SVM [2]. I expect that by taking a similar approach I will be able to achieve a similar accuracy improvement.\n",
    "\n",
    "\n"
   ]
  },
  {
   "cell_type": "markdown",
   "metadata": {},
   "source": [
    "References:\n",
    "\n",
    "[1] - https://medium.com/analytics-vidhya/na%C3%AFve-bayes-vs-svm-for-text-classification-c63478229c33 \\\n",
    "[2] - https://scikit-learn.org/stable/tutorial/text_analytics/working_with_text_data.html"
   ]
  },
  {
   "cell_type": "markdown",
   "metadata": {},
   "source": [
    "### Part 2.2\n",
    ">Does the submission clearly explain the steps that have been taken to\n",
    "implement the improved approach? These should be written in a way that\n",
    "one of your peers who may not have researched the same approach could understand. This may consist of code comments, Jupyter markdown, or a mix of both."
   ]
  },
  {
   "cell_type": "markdown",
   "metadata": {},
   "source": [
    "The improved approach has been implemented by using scikit-learn's `LinearSVC`. This can be achieved through simply replacing the `MultinomialNB()` included in the Machine Learning pipeline, `text_clf` with `LinearSVC()`. The change can be observed in the cell below, within the Pipeline object: `improved_text_clf`. Everything about the Pipeline is the same apart from the change to the model in the final step of the pipeline."
   ]
  },
  {
   "cell_type": "markdown",
   "metadata": {},
   "source": [
    "### Part 2.3\n",
    ">Does the code implement the described approach appropriately? (i.e.\n",
    "does the code actually do what is described?)"
   ]
  },
  {
   "cell_type": "code",
   "execution_count": 16,
   "metadata": {},
   "outputs": [
    {
     "name": "stdout",
     "output_type": "stream",
     "text": [
      "We achieved 82.31% accuracy!\n",
      "\n",
      "              precision    recall  f1-score   support\n",
      "\n",
      "         Neg       0.83      0.83      0.83       142\n",
      "         Pos       0.82      0.81      0.82       135\n",
      "\n",
      "    accuracy                           0.82       277\n",
      "   macro avg       0.82      0.82      0.82       277\n",
      "weighted avg       0.82      0.82      0.82       277\n",
      "\n"
     ]
    }
   ],
   "source": [
    "# The 'clf' of the Pipeline is changed to LinearSVC\n",
    "improved_text_clf = Pipeline([\n",
    "     ('vect', StemmedCountVectorizer(lowercase = True, stop_words = \"english\", token_pattern = r\"(?u)\\b\\w\\w+\\b\")),\n",
    "     ('tfidf', TfidfTransformer()),\n",
    "     ('clf', LinearSVC())])\n",
    "\n",
    "# From there the Pipeline is fitted as normal\n",
    "improved_text_clf.fit(X_train, y_train)\n",
    "\n",
    "\n",
    "# Accuracy is notably improved\n",
    "improved_predicted = improved_text_clf.predict(X_test)\n",
    "improved_accuracy = np.mean(improved_predicted == y_test)\n",
    "print(f'We achieved {round(improved_accuracy*100, 2)}% accuracy!\\n')\n",
    "print(metrics.classification_report(y_test, improved_predicted))"
   ]
  },
  {
   "cell_type": "markdown",
   "metadata": {},
   "source": [
    "### Part 2.4\n",
    ">Does the code output a new classification matrix for the “improved” part\n",
    "two approach AND Is there markdown or comment that clearly discusses\n",
    "and compares the performance of the part one and part two classification\n",
    "approaches and explains whether or not the expected improvements were\n",
    "achieved (and why this may be the case)."
   ]
  },
  {
   "cell_type": "markdown",
   "metadata": {},
   "source": [
    "### Do the improvements meet my expectations?\n",
    "\n",
    "My approach was able to produce improved results. As can be observed from the confusion matrix and classification report, the linear SVM improves on the result obtained using Naïve Bayes as reflected in the f1 scores. Notably, there is a dramatic improvement in True Negatives, going from 107 with Naïve Bayes to 118 with the SVM. I have also provided a graph below to visualise the increased accuracy when switching to a linear SVM. However, it is worth noting that the improvement is not as dramatic as that found in scikit-learn's text classification documentation, which motivated my decision. While, they were able to achieve a 7.8% improvement, my results saw a more modest 1.8% increase.\n",
    "\n",
    "The reason for this improvement comes from the fact that the linear SVM's geometric interpretation is better suited for text classification problems than the Naive Bayes model's limited probabilistic approach, which assumes the independence of each feature. The linear SVM works as a 'maximal margin classifier' by finding a decision boundary which best characterises the training data and makes predictions on unseen data based on where it falls in relation to the boundary. I have visualised how the SVM makes its decision boundary with linear data below for the purpose of showing why the linear SVM produces better results when compared with Naïve Bayes:\n",
    "\n"
   ]
  },
  {
   "cell_type": "code",
   "execution_count": 17,
   "metadata": {},
   "outputs": [
    {
     "data": {
      "image/png": "[encoded data removed]",
      "text/plain": [
       "<Figure size 432x288 with 1 Axes>"
      ]
     },
     "metadata": {
      "needs_background": "light"
     },
     "output_type": "display_data"
    }
   ],
   "source": [
    "# Abitary example of linear data\n",
    "iris = sns.load_dataset('iris')\n",
    "\n",
    "# Making the data linearly seperable\n",
    "df = iris[(iris['species'] !='virginica')]\n",
    "df = df.drop(['sepal_length','sepal_width'], axis=1)\n",
    "df = df.replace('setosa', 0)\n",
    "df = df.replace('versicolor', 1)\n",
    "\n",
    "X_example = df.iloc[:,0:2]\n",
    "y_example = df['species']\n",
    "plt.title('Linearly Seperable Data')\n",
    "plt.scatter(X_example.iloc[:, 0], X_example.iloc[:,1], c=y_example, s=50);"
   ]
  },
  {
   "cell_type": "code",
   "execution_count": 18,
   "metadata": {},
   "outputs": [
    {
     "data": {
      "image/png": "[encoded data removed]",
      "text/plain": [
       "<Figure size 432x288 with 1 Axes>"
      ]
     },
     "metadata": {
      "needs_background": "light"
     },
     "output_type": "display_data"
    }
   ],
   "source": [
    "example_svm = LinearSVC()\n",
    "example_svm.fit(X_example, y_example)\n",
    "\n",
    "# Visualising the SVM\n",
    "ax = plt.gca()\n",
    "plt.scatter(X_example.iloc[:, 0], X_example.iloc[:,1], c=y_example, s=50);\n",
    "\n",
    "xlim = ax.get_xlim()\n",
    "ylim = ax.get_ylim()\n",
    "\n",
    "xx = np.linspace(xlim[0], xlim[1], 30)\n",
    "yy = np.linspace(ylim[0], ylim[1], 30)\n",
    "\n",
    "YY, XX = np.meshgrid(yy, xx)\n",
    "xy = np.vstack([XX.ravel(), YY.ravel()]).T\n",
    "Z = example_svm.decision_function(xy).reshape(XX.shape)\n",
    "\n",
    "\n",
    "plt.title('Linearly Seperable Data Seperated By Linear SVM')\n",
    "ax.contour(XX, YY, Z, colors='k', levels=[-1, 0, 1], alpha=0.5, linestyles=['--', '-', '--'])\n",
    "# ax.scatter(example_svm.support_vectors_[:, 0], example_svm.support_vectors_[:,1], s = 100, linewidth=1, facecolors='none', edgecolors='k')\n",
    "plt.show()"
   ]
  },
  {
   "cell_type": "markdown",
   "metadata": {},
   "source": [
    "As explored in Thorsten Joachims's 'Text Categorization with Support Vector Machines: Learning with Many Relevant Features' [3], linear SVM's perform very well on problems which feature high dimensional input space, few irrelevant features, sparse document vectors and linear separability, all of which are applicable to text classification. This gives it an edge over the Naïve Bayes model found in Part 1.\n",
    "\n",
    "[3] - https://www.cs.cornell.edu/people/tj/publications/joachims_98a.pdf"
   ]
  },
  {
   "cell_type": "code",
   "execution_count": 19,
   "metadata": {},
   "outputs": [
    {
     "name": "stdout",
     "output_type": "stream",
     "text": [
      "Confusion Matrix for Improved Model:\n"
     ]
    },
    {
     "data": {
      "image/png": "[encoded data removed]",
      "text/plain": [
       "<Figure size 432x288 with 2 Axes>"
      ]
     },
     "metadata": {
      "needs_background": "light"
     },
     "output_type": "display_data"
    }
   ],
   "source": [
    "print('Confusion Matrix for Improved Model:')\n",
    "metrics.plot_confusion_matrix(improved_text_clf, X_test, y_test);"
   ]
  },
  {
   "cell_type": "code",
   "execution_count": 20,
   "metadata": {},
   "outputs": [
    {
     "data": {
      "image/png": "[encoded data removed]",
      "text/plain": [
       "<Figure size 432x288 with 1 Axes>"
      ]
     },
     "metadata": {
      "needs_background": "light"
     },
     "output_type": "display_data"
    }
   ],
   "source": [
    "# Graph comparing classification approach from Part 1 and Part 2\n",
    "accuracy_list = [accuracy, improved_accuracy]\n",
    "sns.barplot(['Naïve Bayes', 'Linear SVM'], accuracy_list)\n",
    "plt.title('Comparison of the Accuracy of Naïve Bayes and Linear SVM')\n",
    "plt.xlabel('Models')\n",
    "plt.ylabel('Accuracy')\n",
    "plt.ylim(0.75, 0.85)\n",
    "plt.show()"
   ]
  }
 ],
 "metadata": {
  "kernelspec": {
   "display_name": "Python 3",
   "language": "python",
   "name": "python3"
  },
  "language_info": {
   "codemirror_mode": {
    "name": "ipython",
    "version": 3
   },
   "file_extension": ".py",
   "mimetype": "text/x-python",
   "name": "python",
   "nbconvert_exporter": "python",
   "pygments_lexer": "ipython3",
   "version": "3.8.3"
  }
 },
 "nbformat": 4,
 "nbformat_minor": 4
}
